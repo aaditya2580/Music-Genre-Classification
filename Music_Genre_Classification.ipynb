{
  "nbformat": 4,
  "nbformat_minor": 0,
  "metadata": {
    "colab": {
      "provenance": [],
      "authorship_tag": "ABX9TyNEs7K3VSfjGkBTyE8WEIq8",
      "include_colab_link": true
    },
    "kernelspec": {
      "name": "python3",
      "display_name": "Python 3"
    },
    "language_info": {
      "name": "python"
    }
  },
  "cells": [
    {
      "cell_type": "markdown",
      "metadata": {
        "id": "view-in-github",
        "colab_type": "text"
      },
      "source": [
        "<a href=\"https://colab.research.google.com/github/aaditya2580/Music-Genre-Classification/blob/main/Music_Genre_Classification.ipynb\" target=\"_parent\"><img src=\"https://colab.research.google.com/assets/colab-badge.svg\" alt=\"Open In Colab\"/></a>"
      ]
    },
    {
      "cell_type": "code",
      "execution_count": null,
      "metadata": {
        "id": "2gX7susP-HH_"
      },
      "outputs": [],
      "source": [
        "#Importing Required Libraries\n",
        "import numpy as np\n",
        "import pandas as pd\n",
        "import scipy.io.wavfile as wav\n",
        "from python_speech_features import mfcc\n",
        "from tempfile import TemporaryFile\n",
        "import os\n",
        "import math\n",
        "import pickle\n",
        "import random\n",
        "import operator"
      ]
    },
    {
      "cell_type": "code",
      "source": [],
      "metadata": {
        "id": "IS7eSO4NKF_a"
      },
      "execution_count": null,
      "outputs": []
    }
  ]
}